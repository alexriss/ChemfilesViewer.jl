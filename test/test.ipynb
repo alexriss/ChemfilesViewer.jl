{
 "cells": [
  {
   "cell_type": "markdown",
   "id": "382b84e1",
   "metadata": {},
   "source": [
    "# Unittests in jupyter\n",
    "\n",
    "This are the same tests as in `unittests.jl`.\n",
    "\n",
    "I did not yet find out how to run this automatically.\n",
    "So this is run manually and the generated images are saved and compared to the automatic tests in `runtests.jl`."
   ]
  },
  {
   "cell_type": "code",
   "execution_count": 209,
   "id": "ddcb24c0",
   "metadata": {},
   "outputs": [],
   "source": [
    "using Revise \n",
    "using Chemfiles\n",
    "using ChemfilesViewer\n",
    "using Test\n",
    "using Images"
   ]
  },
  {
   "cell_type": "code",
   "execution_count": 210,
   "id": "4e52dae4",
   "metadata": {},
   "outputs": [],
   "source": [
    "# delete all old files\n",
    "foreach(rm, filter(endswith(\".png\"), readdir(\".\",join=true)))"
   ]
  },
  {
   "cell_type": "markdown",
   "id": "c27587e7",
   "metadata": {},
   "source": [
    "# Unittests"
   ]
  },
  {
   "cell_type": "code",
   "execution_count": 211,
   "id": "5a2c56ac",
   "metadata": {},
   "outputs": [
    {
     "data": {
      "text/plain": [
       "image_diff (generic function with 1 method)"
      ]
     },
     "execution_count": 211,
     "metadata": {},
     "output_type": "execute_result"
    }
   ],
   "source": [
    "function image_diff(fname1, fname2)\n",
    "    img1 = load(fname1)\n",
    "    img2 = load(fname2)\n",
    "    diff = sum(abs.(img1 .- img2))\n",
    "    return diff.r + diff.g + diff.b\n",
    "end"
   ]
  },
  {
   "cell_type": "code",
   "execution_count": 234,
   "id": "a80ba3ad",
   "metadata": {},
   "outputs": [
    {
     "data": {
      "application/vnd.webio.node+json": {
       "children": [
        {
         "children": [],
         "instanceArgs": {
          "namespace": "html",
          "tag": "div"
         },
         "nodeType": "DOM",
         "props": {
          "setInnerHtml": "<!DOCTYPE html>\r\n<html>\r\n\r\n<head>\r\n    <meta charset=\"utf-8\">\r\n    <title>ChemfilesViewer.jl</title>\r\n    <style>\r\n        html,\r\n        body {\r\n            height: 100%;\r\n            margin: 0;\r\n        }\r\n\r\n        .chemviewer_main {\r\n            display: flex;\r\n            flex-flow: column;\r\n            height: 100%;\r\n        }\r\n\r\n        .chemviewer_main .chemviewer_row.chemviewer_header {\r\n            flex: 0 1 auto;\r\n        }\r\n\r\n        .chemviewer_main .chemviewer_row.chemviewer_content {\r\n            flex: 1 1 auto;\r\n        }\r\n\r\n        .chemviewer_main .chemviewer_row.chemviewer_footer {\r\n            flex: 0 1 12px;\r\n            font-size: 9px; \r\n        }\r\n\r\n        div.chemviewer_header {\r\n            text-decoration: none;\r\n            font-family: sans-serif;\r\n        }\r\n\r\n        div.chemviewer_header .chemviewer_buttons, div.chemviewer_header label {\r\n            color: #303030;\r\n            background-color: #ffffff;\r\n            font-size: 0.9em;\r\n            display: inline-block;\r\n            padding: 0.3em 0.3em;\r\n            border: 0.1em solid #f0f0ff;\r\n            margin: 0 0.05em 0.05em 0;\r\n            border-radius: 0.12em;\r\n            box-sizing: border-box;\r\n            text-align: center;\r\n            cursor:pointer;\r\n        }\r\n\r\n        .chemviewer_save {\r\n            background-color: #e6dbdb;\r\n            border: 0.1em solid #a0a0af;\r\n        }\r\n\r\n        .chemviewer_reset {\r\n            background-color: #e6e6e6;\r\n            border: 0.1em solid #afafaf;\r\n        }\r\n\r\n        div.chemviewer_header .chemviewer_buttons:hover {\r\n            border-color: #fff0f0;\r\n            color: #606060;\r\n            background-color: #f0f0ff;\r\n            transition: all 0.2s;\r\n        }\r\n\r\n        div.chemviewer_header a {\r\n            color: #303030;\r\n            background-color: #ffffff;\r\n            text-decoration: none;\r\n            transition: all 0.2s;\r\n        }\r\n\r\n        div.chemviewer_header .disabled {\r\n            color: #aaa;\r\n        }\r\n\r\n        .chemviewer_container {\r\n            display: flex;\r\n            align-items: stretch;\r\n        }\r\n\r\n        .chemviewer_render {\r\n            width: 96%;\r\n            min-height: 400px;\r\n            margin-left: auto;\r\n            margin-right: auto;\r\n            position: relative;\r\n        }\r\n\r\n        .chemviewer_render .chemviewer_atom_label {\r\n            text-shadow: -1px 1px 1px rgba(0,0,0,1);\r\n            font-size: 1.2em;\r\n        }\r\n\r\n        .chemviewer_render .chemviewer_standalone_label {\r\n            font-size: 1.2em;\r\n        }\r\n\r\n        .chemviewer_render .hidden {\r\n            display: none;\r\n        }\r\n\r\n    </style>\r\n</head>\r\n\r\n<body>\r\n\r\n    <div class=\"chemviewer_main\" id=\"chemviewer_main_5179472f-834d-4a82-b4ed-a34ce7a0aa90\">\r\n        <div class=\"chemviewer_row chemviewer_header\">\r\n            <div class=\"chemviewer_header\">\r\n                <select class=\"chemviewer_buttons\" id=\"chemviewer_drawingtype_5179472f-834d-4a82-b4ed-a34ce7a0aa90\">\r\n                    <option value=\"ball and stick\">ball and stick</option>\r\n                    <option value=\"space filling\">space filling</option>\r\n                    <option value=\"wireframe\">wireframe</option>\r\n                </select>\r\n                <select class=\"chemviewer_buttons\" id=\"chemviewer_shader_5179472f-834d-4a82-b4ed-a34ce7a0aa90\">\r\n                    <option value=\"basic\">basic</option>\r\n                    <option value=\"phong\">phong</option>\r\n                    <option value=\"lambert\">lambert</option>\r\n                </select>\r\n                <select class=\"chemviewer_buttons\" id=\"chemviewer_cameratype_5179472f-834d-4a82-b4ed-a34ce7a0aa90\">\r\n                    <option value=\"perspective\">perspective</option>\r\n                    <option value=\"orthographic\">orthographic</option>\r\n                </select>\r\n                <label id=\"chemviewer_unitcell_label_5179472f-834d-4a82-b4ed-a34ce7a0aa90\"><input class=\"chemviewer_buttons\" type=\"checkbox\" id=\"chemviewer_unitcell_5179472f-834d-4a82-b4ed-a34ce7a0aa90\" checked> unit cell</label>\r\n                <label id=\"chemviewer_labels_label_5179472f-834d-4a82-b4ed-a34ce7a0aa90\"><input class=\"chemviewer_buttons\" type=\"checkbox\" id=\"chemviewer_labels_5179472f-834d-4a82-b4ed-a34ce7a0aa90\" checked> labels</label>\r\n                <button class=\"chemviewer_buttons chemviewer_reset\" id=\"chemviewer_reset_5179472f-834d-4a82-b4ed-a34ce7a0aa90\">reset</button>\r\n                <button class=\"chemviewer_buttons chemviewer_save\" id=\"chemviewer_save_5179472f-834d-4a82-b4ed-a34ce7a0aa90\">save</button>\r\n            </div>\r\n        </div>\r\n        <div id=\"chemviewer_container_5179472f-834d-4a82-b4ed-a34ce7a0aa90\" class=\"chemviewer_container chemviewer_row chemviewer_content\">\r\n            <div class=\"chemviewer_render\" id=\"chemviewer_5179472f-834d-4a82-b4ed-a34ce7a0aa90\"></div>\r\n        </div>\r\n        <div class=\"chemviewer_row chemviewer_footer\">\r\n            <span></span>\r\n        </div>\r\n    </div>\r\n\r\n    \r\n    <script>\r\n        // setup\r\n        function setupChemViewer(options={}) {\r\n            // make accessible from the outside\r\n            if (!window.hasOwnProperty(\"chemviewer_objects\")) {\r\n                window.chemviewer_objects = {}\r\n            }\r\n\r\n            const chemviewer_id = '5179472f-834d-4a82-b4ed-a34ce7a0aa90';\r\n            const chemviewer = new ChemViewer();\r\n            chemviewer.create('#chemviewer', chemviewer_id, options);\r\n            window.chemviewer_objects[chemviewer_id] = chemviewer;\r\n        }\r\n\r\n        function setupChemViewerAndDraw_WebIO(ChemViewer, jsonString, options={}) {\r\n            // make accessible from the outside\r\n            if (!window.hasOwnProperty(\"chemviewer_objects\")) {\r\n                window.chemviewer_objects = {}\r\n            }\r\n\r\n            const chemviewer_id = '5179472f-834d-4a82-b4ed-a34ce7a0aa90';\r\n            const chemviewer = new ChemViewer();\r\n            chemviewer.create('#chemviewer', chemviewer_id, options);\r\n            window.chemviewer_objects[chemviewer_id] = chemviewer;\r\n\r\n            drawJsonString(chemviewer_id, jsonString);\r\n        }\r\n\r\n        function sleep(milliseconds) {\r\n            return new Promise(resolve => setTimeout(resolve, milliseconds));\r\n        }\r\n\r\n        // for access from julia\r\n\r\n        function communicate(args, _webIOScope) {\r\n            // WebIO communication\r\n            let chemviewer_id = args[0];\r\n            let what = args[1];\r\n            let val = args[2];\r\n\r\n            if (what == \"drawJsonString\") {\r\n                drawJsonString(chemviewer_id, val);\r\n            } else if (what == \"setOptions\") {\r\n                setOptions(chemviewer_id, val);\r\n            } else if (what == \"addLabel\") {\r\n                addLabel(chemviewer_id, val);\r\n            } else if (what == \"clearLabels\") {\r\n                clearLabels(chemviewer_id);\r\n            } else if (what == \"getPngString\") {\r\n                getPngString(chemviewer_id).then(pngStr => {\r\n                    window.chemviewer_objects[\"_webIOScope_\" + chemviewer_id].setObservableValue(\"from_js\",\r\n                        [\r\n                            chemviewer_id,\r\n                            \"returnPngString\",\r\n                            {\"val\": pngStr, \"jobID\": val[\"jobID\"]}\r\n                        ]\r\n                    );\r\n                });\r\n            } else if (what == \"getPngStringLabels\") {\r\n                getPngStringLabels(chemviewer_id).then(pngStr => {\r\n                    window.chemviewer_objects[\"_webIOScope_\" + chemviewer_id].setObservableValue(\"from_js\",\r\n                        [\r\n                            chemviewer_id,\r\n                            \"returnPngStringLabels\",\r\n                            {\"val\": pngStr, \"jobID\": val[\"jobID\"]}\r\n                        ]\r\n                    );\r\n                });\r\n            }\r\n        }\r\n\r\n        async function drawJsonString(id, jsonString) {\r\n            for (let i=0;i<50;i++) {\r\n                if (!window.chemviewer_objects.hasOwnProperty(id)) {\r\n                    await sleep(100);\r\n                } else {\r\n                    break;\r\n                }\r\n            }\r\n            window.chemviewer_objects[id].clear();\r\n            window.chemviewer_objects[id].draw(JSON.parse(jsonString));\r\n        }\r\n\r\n        async function setOptions(id, dict) {\r\n            for (let i=0;i<50;i++) {\r\n                if (!window.chemviewer_objects.hasOwnProperty(id)) {\r\n                    await sleep(100);\r\n                } else {\r\n                    break;\r\n                }\r\n            }\r\n            window.chemviewer_objects[id].setOptions(dict);\r\n        }\r\n\r\n        async function addLabel(id, dict) {\r\n            for (let i=0;i<50;i++) {\r\n                if (!window.chemviewer_objects.hasOwnProperty(id)) {\r\n                    await sleep(100);\r\n                } else {\r\n                    break;\r\n                }\r\n            }\r\n            window.chemviewer_objects[id].addStandaloneLabel(dict);\r\n        }\r\n\r\n        async function clearLabels(id) {\r\n            for (let i=0;i<50;i++) {\r\n                if (!window.chemviewer_objects.hasOwnProperty(id)) {\r\n                    await sleep(100);\r\n                } else {\r\n                    break;\r\n                }\r\n            }\r\n            window.chemviewer_objects[id].clearStandaloneLabels();\r\n        }\r\n\r\n        async function getPngString(id) {\r\n            for (let i=0;i<50;i++) {\r\n                if (!window.chemviewer_objects.hasOwnProperty(id)) {\r\n                    await sleep(100);\r\n                } else {\r\n                    break;\r\n                }\r\n            }\r\n            return window.chemviewer_objects[id].save();\r\n        }\r\n\r\n        async function getPngStringLabels(id) {\r\n            for (let i=0;i<50;i++) {\r\n                if (!window.chemviewer_objects.hasOwnProperty(id)) {\r\n                    await sleep(100);\r\n                } else {\r\n                    break;\r\n                }\r\n            }\r\n            return window.chemviewer_objects[id].saveLabels();\r\n        }\r\n\r\n    </script>\r\n\r\n</body>\r\n\r\n</html>"
         },
         "type": "node"
        }
       ],
       "instanceArgs": {
        "handlers": {
         "from_julia": [
          "(function (args){window.__webIOScope=_webIOScope; return communicate(args)})"
         ]
        },
        "id": "9100426070169727054",
        "imports": {
         "data": [
          {
           "name": null,
           "type": "js",
           "url": "/assetserver/3964b1a04157daf627fe65eefa5c4e30cf1bc2f6-bundle.js"
          }
         ],
         "type": "async_block"
        },
        "mount_callbacks": [
         "function () {\n    var handler = (    function (val) {\n        setupChemViewerAndDraw_WebIO(val, \"{\\\"bonds\\\":[{\\\"order\\\":2,\\\"atoms\\\":[0,4]},{\\\"order\\\":1,\\\"atoms\\\":[0,8]},{\\\"order\\\":2,\\\"atoms\\\":[1,5]},{\\\"order\\\":1,\\\"atoms\\\":[1,9]},{\\\"order\\\":2,\\\"atoms\\\":[2,6]},{\\\"order\\\":1,\\\"atoms\\\":[2,10]},{\\\"order\\\":2,\\\"atoms\\\":[3,7]},{\\\"order\\\":1,\\\"atoms\\\":[3,11]},{\\\"order\\\":1,\\\"atoms\\\":[4,14]},{\\\"order\\\":1,\\\"atoms\\\":[4,16]},{\\\"order\\\":1,\\\"atoms\\\":[5,12]},{\\\"order\\\":1,\\\"atoms\\\":[5,17]},{\\\"order\\\":1,\\\"atoms\\\":[6,13]},{\\\"order\\\":1,\\\"atoms\\\":[6,18]},{\\\"order\\\":1,\\\"atoms\\\":[7,15]},{\\\"order\\\":1,\\\"atoms\\\":[7,19]},{\\\"order\\\":2,\\\"atoms\\\":[8,13]},{\\\"order\\\":1,\\\"atoms\\\":[8,20]},{\\\"order\\\":2,\\\"atoms\\\":[9,14]},{\\\"order\\\":1,\\\"atoms\\\":[9,21]},{\\\"order\\\":2,\\\"atoms\\\":[10,15]},{\\\"order\\\":1,\\\"atoms\\\":[10,22]},{\\\"order\\\":2,\\\"atoms\\\":[11,12]},{\\\"order\\\":1,\\\"atoms\\\":[11,23]},{\\\"order\\\":1,\\\"atoms\\\":[12,24]},{\\\"order\\\":1,\\\"atoms\\\":[13,25]},{\\\"order\\\":1,\\\"atoms\\\":[14,26]},{\\\"order\\\":1,\\\"atoms\\\":[15,27]},{\\\"order\\\":2,\\\"atoms\\\":[16,20]},{\\\"order\\\":1,\\\"atoms\\\":[16,28]},{\\\"order\\\":2,\\\"atoms\\\":[17,21]},{\\\"order\\\":1,\\\"atoms\\\":[17,29]},{\\\"order\\\":2,\\\"atoms\\\":[18,22]},{\\\"order\\\":1,\\\"atoms\\\":[18,30]},{\\\"order\\\":2,\\\"atoms\\\":[19,23]},{\\\"order\\\":1,\\\"atoms\\\":[19,31]},{\\\"order\\\":1,\\\"atoms\\\":[20,32]},{\\\"order\\\":1,\\\"atoms\\\":[21,33]},{\\\"order\\\":1,\\\"atoms\\\":[22,34]},{\\\"order\\\":1,\\\"atoms\\\":[23,35]}],\\\"labels\\\":[],\\\"atoms\\\":[{\\\"element\\\":\\\"N\\\",\\\"location\\\":[0.3782,-1.9569999999999999,0.0017000000000000001]},{\\\"element\\\":\\\"N\\\",\\\"location\\\":[-1.9570999999999998,-0.3782,0.0007]},{\\\"element\\\":\\\"N\\\",\\\"location\\\":[1.9570999999999998,0.3783,0.0]},{\\\"element\\\":\\\"N\\\",\\\"location\\\":[-0.3782,1.9569999999999999,-0.0014]},{\\\"element\\\":\\\"C\\\",\\\"location\\\":[-0.4931,-2.9223999999999997,0.0002]},{\\\"element\\\":\\\"C\\\",\\\"location\\\":[-2.9223,0.4931,0.0003]},{\\\"element\\\":\\\"C\\\",\\\"location\\\":[2.9223999999999997,-0.493,0.0009]},{\\\"element\\\":\\\"C\\\",\\\"location\\\":[0.4931,2.9223,-0.001]},{\\\"element\\\":\\\"C\\\",\\\"location\\\":[1.6075,-2.5725999999999996,0.0002]},{\\\"element\\\":\\\"C\\\",\\\"location\\\":[-2.5725,-1.6075,0.0007]},{\\\"element\\\":\\\"C\\\",\\\"location\\\":[2.5725999999999996,1.6075,0.0001]},{\\\"element\\\":\\\"C\\\",\\\"location\\\":[-1.6076,2.5725999999999996,-0.0008]},{\\\"element\\\":\\\"C\\\",\\\"location\\\":[-2.804,1.9691999999999998,-0.0001]},{\\\"element\\\":\\\"C\\\",\\\"location\\\":[2.8039,-1.9691999999999998,0.0003]},{\\\"element\\\":\\\"C\\\",\\\"location\\\":[-1.9692999999999998,-2.8039,0.0004]},{\\\"element\\\":\\\"C\\\",\\\"location\\\":[1.9691999999999998,2.8039,-0.0005]},{\\\"element\\\":\\\"C\\\",\\\"location\\\":[0.0844,-4.2734000000000005,-0.0023]},{\\\"element\\\":\\\"C\\\",\\\"location\\\":[-4.273300000000001,-0.0843,0.0005]},{\\\"element\\\":\\\"C\\\",\\\"location\\\":[4.2734000000000005,0.0844,0.0012000000000000001]},{\\\"element\\\":\\\"C\\\",\\\"location\\\":[-0.0844,4.273200000000001,-0.0003]},{\\\"element\\\":\\\"C\\\",\\\"location\\\":[1.3904,-3.9983,-0.0022]},{\\\"element\\\":\\\"C\\\",\\\"location\\\":[-3.9981999999999998,-1.3903,0.0007]},{\\\"element\\\":\\\"C\\\",\\\"location\\\":[3.9981999999999998,1.3903,0.0007]},{\\\"element\\\":\\\"C\\\",\\\"location\\\":[-1.3904,3.9981999999999998,-0.0001]},{\\\"element\\\":\\\"H\\\",\\\"location\\\":[-3.7221,2.5488,0.0007]},{\\\"element\\\":\\\"H\\\",\\\"location\\\":[3.722,-2.5487,-0.0012000000000000001]},{\\\"element\\\":\\\"H\\\",\\\"location\\\":[-2.5489,-3.7221,0.0002]},{\\\"element\\\":\\\"H\\\",\\\"location\\\":[2.5488,3.7221,-0.0005]},{\\\"element\\\":\\\"H\\\",\\\"location\\\":[-0.4202,-5.2214,-0.0039]},{\\\"element\\\":\\\"H\\\",\\\"location\\\":[-5.2213,0.42030000000000006,0.0005]},{\\\"element\\\":\\\"H\\\",\\\"location\\\":[5.2214,-0.4202,0.0017000000000000001]},{\\\"element\\\":\\\"H\\\",\\\"location\\\":[0.4202,5.2213,0.0003]},{\\\"element\\\":\\\"H\\\",\\\"location\\\":[2.1793,-4.7349,-0.0038]},{\\\"element\\\":\\\"H\\\",\\\"location\\\":[-4.7349,-2.1793,0.0009]},{\\\"element\\\":\\\"H\\\",\\\"location\\\":[4.7349,2.1792,0.0007]},{\\\"element\\\":\\\"H\\\",\\\"location\\\":[-2.1793,4.7348,0.0005]}],\\\"unitcell\\\":[]}\", {\"renderHeight\":640,\"renderWidth\":640})\n        window.chemviewer_objects[\"_webIOScope_\" + \"5179472f-834d-4a82-b4ed-a34ce7a0aa90\"] = _webIOScope;\n    }\n);\n    (WebIO.importBlock({\"data\":[{\"name\":null,\"type\":\"js\",\"url\":\"/assetserver/3964b1a04157daf627fe65eefa5c4e30cf1bc2f6-bundle.js\"}],\"type\":\"async_block\"})).then((imports) => handler.apply(this, imports));\n}\n"
        ],
        "observables": {
         "from_js": {
          "id": "3557224460641903414",
          "sync": true,
          "value": [
           "chemviewer_id",
           "what",
           {}
          ]
         },
         "from_julia": {
          "id": "16691885482626482315",
          "sync": false,
          "value": [
           "chemviewer_id",
           "what",
           {}
          ]
         }
        },
        "systemjs_options": null
       },
       "nodeType": "Scope",
       "props": {},
       "type": "node"
      },
      "text/html": [
       "<div\n",
       "    class=\"webio-mountpoint\"\n",
       "    data-webio-mountpoint=\"14753664734308142545\"\n",
       ">\n",
       "    <script>\n",
       "    (function(){\n",
       "    // Some integrations (namely, IJulia/Jupyter) use an alternate render pathway than\n",
       "    // just putting the html on the page. If WebIO isn't defined, then it's pretty likely\n",
       "    // that we're in one of those situations and the integration just isn't installed\n",
       "    // correctly.\n",
       "    if (typeof window.WebIO === \"undefined\") {\n",
       "        document\n",
       "            .querySelector('[data-webio-mountpoint=\"14753664734308142545\"]')\n",
       "            .innerHTML = (\n",
       "                '<div style=\"padding: 1em; background-color: #f8d6da; border: 1px solid #f5c6cb; font-weight: bold;\">' +\n",
       "                '<p><strong>WebIO not detected.</strong></p>' +\n",
       "                '<p>Please read ' +\n",
       "                '<a href=\"https://juliagizmos.github.io/WebIO.jl/latest/troubleshooting/not-detected/\" target=\"_blank\">the troubleshooting guide</a> ' +\n",
       "                'for more information on how to resolve this issue.</p>' +\n",
       "                '<p><a href=\"https://juliagizmos.github.io/WebIO.jl/latest/troubleshooting/not-detected/\" target=\"_blank\">https://juliagizmos.github.io/WebIO.jl/latest/troubleshooting/not-detected/</a></p>' +\n",
       "                '</div>'\n",
       "            );\n",
       "        return;\n",
       "    }\n",
       "    WebIO.mount(\n",
       "        document.querySelector('[data-webio-mountpoint=\"14753664734308142545\"]'),\n",
       "        {\"props\":{},\"nodeType\":\"Scope\",\"type\":\"node\",\"instanceArgs\":{\"imports\":{\"data\":[{\"name\":null,\"type\":\"js\",\"url\":\"\\/assetserver\\/3964b1a04157daf627fe65eefa5c4e30cf1bc2f6-bundle.js\"}],\"type\":\"async_block\"},\"id\":\"9100426070169727054\",\"handlers\":{\"from_julia\":[\"(function (args){window.__webIOScope=_webIOScope; return communicate(args)})\"]},\"systemjs_options\":null,\"mount_callbacks\":[\"function () {\\n    var handler = (    function (val) {\\n        setupChemViewerAndDraw_WebIO(val, \\\"{\\\\\\\"bonds\\\\\\\":[{\\\\\\\"order\\\\\\\":2,\\\\\\\"atoms\\\\\\\":[0,4]},{\\\\\\\"order\\\\\\\":1,\\\\\\\"atoms\\\\\\\":[0,8]},{\\\\\\\"order\\\\\\\":2,\\\\\\\"atoms\\\\\\\":[1,5]},{\\\\\\\"order\\\\\\\":1,\\\\\\\"atoms\\\\\\\":[1,9]},{\\\\\\\"order\\\\\\\":2,\\\\\\\"atoms\\\\\\\":[2,6]},{\\\\\\\"order\\\\\\\":1,\\\\\\\"atoms\\\\\\\":[2,10]},{\\\\\\\"order\\\\\\\":2,\\\\\\\"atoms\\\\\\\":[3,7]},{\\\\\\\"order\\\\\\\":1,\\\\\\\"atoms\\\\\\\":[3,11]},{\\\\\\\"order\\\\\\\":1,\\\\\\\"atoms\\\\\\\":[4,14]},{\\\\\\\"order\\\\\\\":1,\\\\\\\"atoms\\\\\\\":[4,16]},{\\\\\\\"order\\\\\\\":1,\\\\\\\"atoms\\\\\\\":[5,12]},{\\\\\\\"order\\\\\\\":1,\\\\\\\"atoms\\\\\\\":[5,17]},{\\\\\\\"order\\\\\\\":1,\\\\\\\"atoms\\\\\\\":[6,13]},{\\\\\\\"order\\\\\\\":1,\\\\\\\"atoms\\\\\\\":[6,18]},{\\\\\\\"order\\\\\\\":1,\\\\\\\"atoms\\\\\\\":[7,15]},{\\\\\\\"order\\\\\\\":1,\\\\\\\"atoms\\\\\\\":[7,19]},{\\\\\\\"order\\\\\\\":2,\\\\\\\"atoms\\\\\\\":[8,13]},{\\\\\\\"order\\\\\\\":1,\\\\\\\"atoms\\\\\\\":[8,20]},{\\\\\\\"order\\\\\\\":2,\\\\\\\"atoms\\\\\\\":[9,14]},{\\\\\\\"order\\\\\\\":1,\\\\\\\"atoms\\\\\\\":[9,21]},{\\\\\\\"order\\\\\\\":2,\\\\\\\"atoms\\\\\\\":[10,15]},{\\\\\\\"order\\\\\\\":1,\\\\\\\"atoms\\\\\\\":[10,22]},{\\\\\\\"order\\\\\\\":2,\\\\\\\"atoms\\\\\\\":[11,12]},{\\\\\\\"order\\\\\\\":1,\\\\\\\"atoms\\\\\\\":[11,23]},{\\\\\\\"order\\\\\\\":1,\\\\\\\"atoms\\\\\\\":[12,24]},{\\\\\\\"order\\\\\\\":1,\\\\\\\"atoms\\\\\\\":[13,25]},{\\\\\\\"order\\\\\\\":1,\\\\\\\"atoms\\\\\\\":[14,26]},{\\\\\\\"order\\\\\\\":1,\\\\\\\"atoms\\\\\\\":[15,27]},{\\\\\\\"order\\\\\\\":2,\\\\\\\"atoms\\\\\\\":[16,20]},{\\\\\\\"order\\\\\\\":1,\\\\\\\"atoms\\\\\\\":[16,28]},{\\\\\\\"order\\\\\\\":2,\\\\\\\"atoms\\\\\\\":[17,21]},{\\\\\\\"order\\\\\\\":1,\\\\\\\"atoms\\\\\\\":[17,29]},{\\\\\\\"order\\\\\\\":2,\\\\\\\"atoms\\\\\\\":[18,22]},{\\\\\\\"order\\\\\\\":1,\\\\\\\"atoms\\\\\\\":[18,30]},{\\\\\\\"order\\\\\\\":2,\\\\\\\"atoms\\\\\\\":[19,23]},{\\\\\\\"order\\\\\\\":1,\\\\\\\"atoms\\\\\\\":[19,31]},{\\\\\\\"order\\\\\\\":1,\\\\\\\"atoms\\\\\\\":[20,32]},{\\\\\\\"order\\\\\\\":1,\\\\\\\"atoms\\\\\\\":[21,33]},{\\\\\\\"order\\\\\\\":1,\\\\\\\"atoms\\\\\\\":[22,34]},{\\\\\\\"order\\\\\\\":1,\\\\\\\"atoms\\\\\\\":[23,35]}],\\\\\\\"labels\\\\\\\":[],\\\\\\\"atoms\\\\\\\":[{\\\\\\\"element\\\\\\\":\\\\\\\"N\\\\\\\",\\\\\\\"location\\\\\\\":[0.3782,-1.9569999999999999,0.0017000000000000001]},{\\\\\\\"element\\\\\\\":\\\\\\\"N\\\\\\\",\\\\\\\"location\\\\\\\":[-1.9570999999999998,-0.3782,0.0007]},{\\\\\\\"element\\\\\\\":\\\\\\\"N\\\\\\\",\\\\\\\"location\\\\\\\":[1.9570999999999998,0.3783,0.0]},{\\\\\\\"element\\\\\\\":\\\\\\\"N\\\\\\\",\\\\\\\"location\\\\\\\":[-0.3782,1.9569999999999999,-0.0014]},{\\\\\\\"element\\\\\\\":\\\\\\\"C\\\\\\\",\\\\\\\"location\\\\\\\":[-0.4931,-2.9223999999999997,0.0002]},{\\\\\\\"element\\\\\\\":\\\\\\\"C\\\\\\\",\\\\\\\"location\\\\\\\":[-2.9223,0.4931,0.0003]},{\\\\\\\"element\\\\\\\":\\\\\\\"C\\\\\\\",\\\\\\\"location\\\\\\\":[2.9223999999999997,-0.493,0.0009]},{\\\\\\\"element\\\\\\\":\\\\\\\"C\\\\\\\",\\\\\\\"location\\\\\\\":[0.4931,2.9223,-0.001]},{\\\\\\\"element\\\\\\\":\\\\\\\"C\\\\\\\",\\\\\\\"location\\\\\\\":[1.6075,-2.5725999999999996,0.0002]},{\\\\\\\"element\\\\\\\":\\\\\\\"C\\\\\\\",\\\\\\\"location\\\\\\\":[-2.5725,-1.6075,0.0007]},{\\\\\\\"element\\\\\\\":\\\\\\\"C\\\\\\\",\\\\\\\"location\\\\\\\":[2.5725999999999996,1.6075,0.0001]},{\\\\\\\"element\\\\\\\":\\\\\\\"C\\\\\\\",\\\\\\\"location\\\\\\\":[-1.6076,2.5725999999999996,-0.0008]},{\\\\\\\"element\\\\\\\":\\\\\\\"C\\\\\\\",\\\\\\\"location\\\\\\\":[-2.804,1.9691999999999998,-0.0001]},{\\\\\\\"element\\\\\\\":\\\\\\\"C\\\\\\\",\\\\\\\"location\\\\\\\":[2.8039,-1.9691999999999998,0.0003]},{\\\\\\\"element\\\\\\\":\\\\\\\"C\\\\\\\",\\\\\\\"location\\\\\\\":[-1.9692999999999998,-2.8039,0.0004]},{\\\\\\\"element\\\\\\\":\\\\\\\"C\\\\\\\",\\\\\\\"location\\\\\\\":[1.9691999999999998,2.8039,-0.0005]},{\\\\\\\"element\\\\\\\":\\\\\\\"C\\\\\\\",\\\\\\\"location\\\\\\\":[0.0844,-4.2734000000000005,-0.0023]},{\\\\\\\"element\\\\\\\":\\\\\\\"C\\\\\\\",\\\\\\\"location\\\\\\\":[-4.273300000000001,-0.0843,0.0005]},{\\\\\\\"element\\\\\\\":\\\\\\\"C\\\\\\\",\\\\\\\"location\\\\\\\":[4.2734000000000005,0.0844,0.0012000000000000001]},{\\\\\\\"element\\\\\\\":\\\\\\\"C\\\\\\\",\\\\\\\"location\\\\\\\":[-0.0844,4.273200000000001,-0.0003]},{\\\\\\\"element\\\\\\\":\\\\\\\"C\\\\\\\",\\\\\\\"location\\\\\\\":[1.3904,-3.9983,-0.0022]},{\\\\\\\"element\\\\\\\":\\\\\\\"C\\\\\\\",\\\\\\\"location\\\\\\\":[-3.9981999999999998,-1.3903,0.0007]},{\\\\\\\"element\\\\\\\":\\\\\\\"C\\\\\\\",\\\\\\\"location\\\\\\\":[3.9981999999999998,1.3903,0.0007]},{\\\\\\\"element\\\\\\\":\\\\\\\"C\\\\\\\",\\\\\\\"location\\\\\\\":[-1.3904,3.9981999999999998,-0.0001]},{\\\\\\\"element\\\\\\\":\\\\\\\"H\\\\\\\",\\\\\\\"location\\\\\\\":[-3.7221,2.5488,0.0007]},{\\\\\\\"element\\\\\\\":\\\\\\\"H\\\\\\\",\\\\\\\"location\\\\\\\":[3.722,-2.5487,-0.0012000000000000001]},{\\\\\\\"element\\\\\\\":\\\\\\\"H\\\\\\\",\\\\\\\"location\\\\\\\":[-2.5489,-3.7221,0.0002]},{\\\\\\\"element\\\\\\\":\\\\\\\"H\\\\\\\",\\\\\\\"location\\\\\\\":[2.5488,3.7221,-0.0005]},{\\\\\\\"element\\\\\\\":\\\\\\\"H\\\\\\\",\\\\\\\"location\\\\\\\":[-0.4202,-5.2214,-0.0039]},{\\\\\\\"element\\\\\\\":\\\\\\\"H\\\\\\\",\\\\\\\"location\\\\\\\":[-5.2213,0.42030000000000006,0.0005]},{\\\\\\\"element\\\\\\\":\\\\\\\"H\\\\\\\",\\\\\\\"location\\\\\\\":[5.2214,-0.4202,0.0017000000000000001]},{\\\\\\\"element\\\\\\\":\\\\\\\"H\\\\\\\",\\\\\\\"location\\\\\\\":[0.4202,5.2213,0.0003]},{\\\\\\\"element\\\\\\\":\\\\\\\"H\\\\\\\",\\\\\\\"location\\\\\\\":[2.1793,-4.7349,-0.0038]},{\\\\\\\"element\\\\\\\":\\\\\\\"H\\\\\\\",\\\\\\\"location\\\\\\\":[-4.7349,-2.1793,0.0009]},{\\\\\\\"element\\\\\\\":\\\\\\\"H\\\\\\\",\\\\\\\"location\\\\\\\":[4.7349,2.1792,0.0007]},{\\\\\\\"element\\\\\\\":\\\\\\\"H\\\\\\\",\\\\\\\"location\\\\\\\":[-2.1793,4.7348,0.0005]}],\\\\\\\"unitcell\\\\\\\":[]}\\\", {\\\"renderHeight\\\":640,\\\"renderWidth\\\":640})\\n        window.chemviewer_objects[\\\"_webIOScope_\\\" + \\\"5179472f-834d-4a82-b4ed-a34ce7a0aa90\\\"] = _webIOScope;\\n    }\\n);\\n    (WebIO.importBlock({\\\"data\\\":[{\\\"name\\\":null,\\\"type\\\":\\\"js\\\",\\\"url\\\":\\\"\\/assetserver\\/3964b1a04157daf627fe65eefa5c4e30cf1bc2f6-bundle.js\\\"}],\\\"type\\\":\\\"async_block\\\"})).then((imports) => handler.apply(this, imports));\\n}\\n\"],\"observables\":{\"from_js\":{\"sync\":true,\"id\":\"3557224460641903414\",\"value\":[\"chemviewer_id\",\"what\",{}]},\"from_julia\":{\"sync\":false,\"id\":\"16691885482626482315\",\"value\":[\"chemviewer_id\",\"what\",{}]}}},\"children\":[{\"props\":{\"setInnerHtml\":\"<!DOCTYPE html>\\r\\n<html>\\r\\n\\r\\n<head>\\r\\n    <meta charset=\\\"utf-8\\\">\\r\\n    <title>ChemfilesViewer.jl<\\/title>\\r\\n    <style>\\r\\n        html,\\r\\n        body {\\r\\n            height: 100%;\\r\\n            margin: 0;\\r\\n        }\\r\\n\\r\\n        .chemviewer_main {\\r\\n            display: flex;\\r\\n            flex-flow: column;\\r\\n            height: 100%;\\r\\n        }\\r\\n\\r\\n        .chemviewer_main .chemviewer_row.chemviewer_header {\\r\\n            flex: 0 1 auto;\\r\\n        }\\r\\n\\r\\n        .chemviewer_main .chemviewer_row.chemviewer_content {\\r\\n            flex: 1 1 auto;\\r\\n        }\\r\\n\\r\\n        .chemviewer_main .chemviewer_row.chemviewer_footer {\\r\\n            flex: 0 1 12px;\\r\\n            font-size: 9px; \\r\\n        }\\r\\n\\r\\n        div.chemviewer_header {\\r\\n            text-decoration: none;\\r\\n            font-family: sans-serif;\\r\\n        }\\r\\n\\r\\n        div.chemviewer_header .chemviewer_buttons, div.chemviewer_header label {\\r\\n            color: #303030;\\r\\n            background-color: #ffffff;\\r\\n            font-size: 0.9em;\\r\\n            display: inline-block;\\r\\n            padding: 0.3em 0.3em;\\r\\n            border: 0.1em solid #f0f0ff;\\r\\n            margin: 0 0.05em 0.05em 0;\\r\\n            border-radius: 0.12em;\\r\\n            box-sizing: border-box;\\r\\n            text-align: center;\\r\\n            cursor:pointer;\\r\\n        }\\r\\n\\r\\n        .chemviewer_save {\\r\\n            background-color: #e6dbdb;\\r\\n            border: 0.1em solid #a0a0af;\\r\\n        }\\r\\n\\r\\n        .chemviewer_reset {\\r\\n            background-color: #e6e6e6;\\r\\n            border: 0.1em solid #afafaf;\\r\\n        }\\r\\n\\r\\n        div.chemviewer_header .chemviewer_buttons:hover {\\r\\n            border-color: #fff0f0;\\r\\n            color: #606060;\\r\\n            background-color: #f0f0ff;\\r\\n            transition: all 0.2s;\\r\\n        }\\r\\n\\r\\n        div.chemviewer_header a {\\r\\n            color: #303030;\\r\\n            background-color: #ffffff;\\r\\n            text-decoration: none;\\r\\n            transition: all 0.2s;\\r\\n        }\\r\\n\\r\\n        div.chemviewer_header .disabled {\\r\\n            color: #aaa;\\r\\n        }\\r\\n\\r\\n        .chemviewer_container {\\r\\n            display: flex;\\r\\n            align-items: stretch;\\r\\n        }\\r\\n\\r\\n        .chemviewer_render {\\r\\n            width: 96%;\\r\\n            min-height: 400px;\\r\\n            margin-left: auto;\\r\\n            margin-right: auto;\\r\\n            position: relative;\\r\\n        }\\r\\n\\r\\n        .chemviewer_render .chemviewer_atom_label {\\r\\n            text-shadow: -1px 1px 1px rgba(0,0,0,1);\\r\\n            font-size: 1.2em;\\r\\n        }\\r\\n\\r\\n        .chemviewer_render .chemviewer_standalone_label {\\r\\n            font-size: 1.2em;\\r\\n        }\\r\\n\\r\\n        .chemviewer_render .hidden {\\r\\n            display: none;\\r\\n        }\\r\\n\\r\\n    <\\/style>\\r\\n<\\/head>\\r\\n\\r\\n<body>\\r\\n\\r\\n    <div class=\\\"chemviewer_main\\\" id=\\\"chemviewer_main_5179472f-834d-4a82-b4ed-a34ce7a0aa90\\\">\\r\\n        <div class=\\\"chemviewer_row chemviewer_header\\\">\\r\\n            <div class=\\\"chemviewer_header\\\">\\r\\n                <select class=\\\"chemviewer_buttons\\\" id=\\\"chemviewer_drawingtype_5179472f-834d-4a82-b4ed-a34ce7a0aa90\\\">\\r\\n                    <option value=\\\"ball and stick\\\">ball and stick<\\/option>\\r\\n                    <option value=\\\"space filling\\\">space filling<\\/option>\\r\\n                    <option value=\\\"wireframe\\\">wireframe<\\/option>\\r\\n                <\\/select>\\r\\n                <select class=\\\"chemviewer_buttons\\\" id=\\\"chemviewer_shader_5179472f-834d-4a82-b4ed-a34ce7a0aa90\\\">\\r\\n                    <option value=\\\"basic\\\">basic<\\/option>\\r\\n                    <option value=\\\"phong\\\">phong<\\/option>\\r\\n                    <option value=\\\"lambert\\\">lambert<\\/option>\\r\\n                <\\/select>\\r\\n                <select class=\\\"chemviewer_buttons\\\" id=\\\"chemviewer_cameratype_5179472f-834d-4a82-b4ed-a34ce7a0aa90\\\">\\r\\n                    <option value=\\\"perspective\\\">perspective<\\/option>\\r\\n                    <option value=\\\"orthographic\\\">orthographic<\\/option>\\r\\n                <\\/select>\\r\\n                <label id=\\\"chemviewer_unitcell_label_5179472f-834d-4a82-b4ed-a34ce7a0aa90\\\"><input class=\\\"chemviewer_buttons\\\" type=\\\"checkbox\\\" id=\\\"chemviewer_unitcell_5179472f-834d-4a82-b4ed-a34ce7a0aa90\\\" checked> unit cell<\\/label>\\r\\n                <label id=\\\"chemviewer_labels_label_5179472f-834d-4a82-b4ed-a34ce7a0aa90\\\"><input class=\\\"chemviewer_buttons\\\" type=\\\"checkbox\\\" id=\\\"chemviewer_labels_5179472f-834d-4a82-b4ed-a34ce7a0aa90\\\" checked> labels<\\/label>\\r\\n                <button class=\\\"chemviewer_buttons chemviewer_reset\\\" id=\\\"chemviewer_reset_5179472f-834d-4a82-b4ed-a34ce7a0aa90\\\">reset<\\/button>\\r\\n                <button class=\\\"chemviewer_buttons chemviewer_save\\\" id=\\\"chemviewer_save_5179472f-834d-4a82-b4ed-a34ce7a0aa90\\\">save<\\/button>\\r\\n            <\\/div>\\r\\n        <\\/div>\\r\\n        <div id=\\\"chemviewer_container_5179472f-834d-4a82-b4ed-a34ce7a0aa90\\\" class=\\\"chemviewer_container chemviewer_row chemviewer_content\\\">\\r\\n            <div class=\\\"chemviewer_render\\\" id=\\\"chemviewer_5179472f-834d-4a82-b4ed-a34ce7a0aa90\\\"><\\/div>\\r\\n        <\\/div>\\r\\n        <div class=\\\"chemviewer_row chemviewer_footer\\\">\\r\\n            <span><\\/span>\\r\\n        <\\/div>\\r\\n    <\\/div>\\r\\n\\r\\n    \\r\\n    <script>\\r\\n        \\/\\/ setup\\r\\n        function setupChemViewer(options={}) {\\r\\n            \\/\\/ make accessible from the outside\\r\\n            if (!window.hasOwnProperty(\\\"chemviewer_objects\\\")) {\\r\\n                window.chemviewer_objects = {}\\r\\n            }\\r\\n\\r\\n            const chemviewer_id = '5179472f-834d-4a82-b4ed-a34ce7a0aa90';\\r\\n            const chemviewer = new ChemViewer();\\r\\n            chemviewer.create('#chemviewer', chemviewer_id, options);\\r\\n            window.chemviewer_objects[chemviewer_id] = chemviewer;\\r\\n        }\\r\\n\\r\\n        function setupChemViewerAndDraw_WebIO(ChemViewer, jsonString, options={}) {\\r\\n            \\/\\/ make accessible from the outside\\r\\n            if (!window.hasOwnProperty(\\\"chemviewer_objects\\\")) {\\r\\n                window.chemviewer_objects = {}\\r\\n            }\\r\\n\\r\\n            const chemviewer_id = '5179472f-834d-4a82-b4ed-a34ce7a0aa90';\\r\\n            const chemviewer = new ChemViewer();\\r\\n            chemviewer.create('#chemviewer', chemviewer_id, options);\\r\\n            window.chemviewer_objects[chemviewer_id] = chemviewer;\\r\\n\\r\\n            drawJsonString(chemviewer_id, jsonString);\\r\\n        }\\r\\n\\r\\n        function sleep(milliseconds) {\\r\\n            return new Promise(resolve => setTimeout(resolve, milliseconds));\\r\\n        }\\r\\n\\r\\n        \\/\\/ for access from julia\\r\\n\\r\\n        function communicate(args, _webIOScope) {\\r\\n            \\/\\/ WebIO communication\\r\\n            let chemviewer_id = args[0];\\r\\n            let what = args[1];\\r\\n            let val = args[2];\\r\\n\\r\\n            if (what == \\\"drawJsonString\\\") {\\r\\n                drawJsonString(chemviewer_id, val);\\r\\n            } else if (what == \\\"setOptions\\\") {\\r\\n                setOptions(chemviewer_id, val);\\r\\n            } else if (what == \\\"addLabel\\\") {\\r\\n                addLabel(chemviewer_id, val);\\r\\n            } else if (what == \\\"clearLabels\\\") {\\r\\n                clearLabels(chemviewer_id);\\r\\n            } else if (what == \\\"getPngString\\\") {\\r\\n                getPngString(chemviewer_id).then(pngStr => {\\r\\n                    window.chemviewer_objects[\\\"_webIOScope_\\\" + chemviewer_id].setObservableValue(\\\"from_js\\\",\\r\\n                        [\\r\\n                            chemviewer_id,\\r\\n                            \\\"returnPngString\\\",\\r\\n                            {\\\"val\\\": pngStr, \\\"jobID\\\": val[\\\"jobID\\\"]}\\r\\n                        ]\\r\\n                    );\\r\\n                });\\r\\n            } else if (what == \\\"getPngStringLabels\\\") {\\r\\n                getPngStringLabels(chemviewer_id).then(pngStr => {\\r\\n                    window.chemviewer_objects[\\\"_webIOScope_\\\" + chemviewer_id].setObservableValue(\\\"from_js\\\",\\r\\n                        [\\r\\n                            chemviewer_id,\\r\\n                            \\\"returnPngStringLabels\\\",\\r\\n                            {\\\"val\\\": pngStr, \\\"jobID\\\": val[\\\"jobID\\\"]}\\r\\n                        ]\\r\\n                    );\\r\\n                });\\r\\n            }\\r\\n        }\\r\\n\\r\\n        async function drawJsonString(id, jsonString) {\\r\\n            for (let i=0;i<50;i++) {\\r\\n                if (!window.chemviewer_objects.hasOwnProperty(id)) {\\r\\n                    await sleep(100);\\r\\n                } else {\\r\\n                    break;\\r\\n                }\\r\\n            }\\r\\n            window.chemviewer_objects[id].clear();\\r\\n            window.chemviewer_objects[id].draw(JSON.parse(jsonString));\\r\\n        }\\r\\n\\r\\n        async function setOptions(id, dict) {\\r\\n            for (let i=0;i<50;i++) {\\r\\n                if (!window.chemviewer_objects.hasOwnProperty(id)) {\\r\\n                    await sleep(100);\\r\\n                } else {\\r\\n                    break;\\r\\n                }\\r\\n            }\\r\\n            window.chemviewer_objects[id].setOptions(dict);\\r\\n        }\\r\\n\\r\\n        async function addLabel(id, dict) {\\r\\n            for (let i=0;i<50;i++) {\\r\\n                if (!window.chemviewer_objects.hasOwnProperty(id)) {\\r\\n                    await sleep(100);\\r\\n                } else {\\r\\n                    break;\\r\\n                }\\r\\n            }\\r\\n            window.chemviewer_objects[id].addStandaloneLabel(dict);\\r\\n        }\\r\\n\\r\\n        async function clearLabels(id) {\\r\\n            for (let i=0;i<50;i++) {\\r\\n                if (!window.chemviewer_objects.hasOwnProperty(id)) {\\r\\n                    await sleep(100);\\r\\n                } else {\\r\\n                    break;\\r\\n                }\\r\\n            }\\r\\n            window.chemviewer_objects[id].clearStandaloneLabels();\\r\\n        }\\r\\n\\r\\n        async function getPngString(id) {\\r\\n            for (let i=0;i<50;i++) {\\r\\n                if (!window.chemviewer_objects.hasOwnProperty(id)) {\\r\\n                    await sleep(100);\\r\\n                } else {\\r\\n                    break;\\r\\n                }\\r\\n            }\\r\\n            return window.chemviewer_objects[id].save();\\r\\n        }\\r\\n\\r\\n        async function getPngStringLabels(id) {\\r\\n            for (let i=0;i<50;i++) {\\r\\n                if (!window.chemviewer_objects.hasOwnProperty(id)) {\\r\\n                    await sleep(100);\\r\\n                } else {\\r\\n                    break;\\r\\n                }\\r\\n            }\\r\\n            return window.chemviewer_objects[id].saveLabels();\\r\\n        }\\r\\n\\r\\n    <\\/script>\\r\\n\\r\\n<\\/body>\\r\\n\\r\\n<\\/html>\"},\"nodeType\":\"DOM\",\"type\":\"node\",\"instanceArgs\":{\"namespace\":\"html\",\"tag\":\"div\"},\"children\":[]}]},\n",
       "        window,\n",
       "    );\n",
       "    })()\n",
       "    </script>\n",
       "</div>\n"
      ],
      "text/plain": [
       "Scope(HTML{String}(\"<!DOCTYPE html>\\r\\n<html>\\r\\n\\r\\n<head>\\r\\n    <meta charset=\\\"utf-8\\\">\\r\\n    <title>ChemfilesViewer.jl</title>\\r\\n    <style>\\r\\n        html,\\r\\n        body {\\r\\n            height: 100%;\\r\\n            margin: 0;\\r\\n        }\\r\\n\\r\\n        .chemviewer_main {\\r\\n            display: flex;\\r\\n            flex-flow: column;\\r\\n            height: 100%;\\r\\n        }\\r\\n\\r\\n        .chemviewer_main .chemviewer_row.chemviewer_header {\\r\\n            flex: 0 1 auto;\\r\\n        }\\r\\n\\r\\n        .chemviewer_main .chemviewer_row.chemviewer_content {\\r\\n            flex: 1 1 auto;\\r\\n        }\\r\\n\\r\\n        .chemviewer_main .chemviewer_row.chemviewer_footer {\\r\\n            flex: 0 1 12px;\\r\\n            font-size: 9px; \\r\\n        }\\r\\n\\r\\n        div.chemviewer_header {\\r\\n            text-decoration: none;\\r\\n            font-family: sans-serif;\\r\\n        }\\r\\n\\r\\n        div.chemviewer_header .chemviewer_buttons, div.chemviewer_header label {\\r\\n            color: #303030;\\r\\n            background-color: #ffffff;\\r\\n            font-size: 0.9em;\\r\\n            display: inline-block;\\r\\n            padding: 0.3em 0.3em;\\r\\n            border: 0.1em solid #f0f0ff;\\r\\n            margin: 0 0.05em 0.05em 0;\\r\\n            border-radius: 0.12em;\\r\\n            box-sizing: border-box;\\r\\n            text-align: center;\\r\\n            cursor:pointer;\\r\\n        }\\r\\n\\r\\n        .chemviewer_save {\\r\\n            background-color: #e6dbdb;\\r\\n            border: 0.1em solid #a0a0af;\\r\\n        }\\r\\n\\r\\n        .chemviewer_reset {\\r\\n            background-color: #e6e6e6;\\r\\n            border: 0.1em solid #afafaf;\\r\\n        }\\r\\n\\r\\n        div.chemviewer_header .chemviewer_buttons:hover {\\r\\n            border-color: #fff0f0;\\r\\n            color: #606060;\\r\\n            background-color: #f0f0ff;\\r\\n            transition: all 0.2s;\\r\\n        }\\r\\n\\r\\n        div.chemviewer_header a {\\r\\n            color: #303030;\\r\\n            background-color: #ffffff;\\r\\n            text-decoration: none;\\r\\n            transition: all 0.2s;\\r\\n        }\\r\\n\\r\\n        div.chemviewer_header .disabled {\\r\\n            color: #aaa;\\r\\n        }\\r\\n\\r\\n        .chemviewer_container {\\r\\n            display: flex;\\r\\n            align-items: stretch;\\r\\n        }\\r\\n\\r\\n        .chemviewer_render {\\r\\n            width: 96%;\\r\\n            min-height: 400px;\\r\\n            margin-left: auto;\\r\\n            margin-right: auto;\\r\\n            position: relative;\\r\\n        }\\r\\n\\r\\n        .chemviewer_render .chemviewer_atom_label {\\r\\n            text-shadow: -1px 1px 1px rgba(0,0,0,1);\\r\\n            font-size: 1.2em;\\r\\n        }\\r\\n\\r\\n        .chemviewer_render .chemviewer_standalone_label {\\r\\n            font-size: 1.2em;\\r\\n        }\\r\\n\\r\\n        .chemviewer_render .hidden {\\r\\n            display: none;\\r\\n        }\\r\\n\\r\\n    </style>\\r\\n</head>\\r\\n\\r\\n<body>\\r\\n\\r\\n    <div class=\\\"chemviewer_main\\\" id=\\\"chemviewer_main_5179472f-834d-4a82-b4ed-a34ce7a0aa90\\\">\\r\\n        <div class=\\\"chemviewer_row chemviewer_header\\\">\\r\\n            <div class=\\\"chemviewer_header\\\">\\r\\n                <select class=\\\"chemviewer_buttons\\\" id=\\\"chemviewer_drawingtype_5179472f-834d-4a82-b4ed-a34ce7a0aa90\\\">\\r\\n                    <option value=\\\"ball and stick\\\">ball and stick</option>\\r\\n                    <option value=\\\"space filling\\\">space filling</option>\\r\\n                    <option value=\\\"wireframe\\\">wireframe</option>\\r\\n                </select>\\r\\n                <select class=\\\"chemviewer_buttons\\\" id=\\\"chemviewer_shader_5179472f-834d-4a82-b4ed-a34ce7a0aa90\\\">\\r\\n                    <option value=\\\"basic\\\">basic</option>\\r\\n                    <option value=\\\"phong\\\">phong</option>\\r\\n                    <option value=\\\"lambert\\\">lambert</option>\\r\\n                </select>\\r\\n                <select class=\\\"chemviewer_buttons\\\" id=\\\"chemviewer_cameratype_5179472f-834d-4a82-b4ed-a34ce7a0aa90\\\">\\r\\n                    <option value=\\\"perspective\\\">perspective</option>\\r\\n                    <option value=\\\"orthographic\\\">orthographic</option>\\r\\n                </select>\\r\\n                <label id=\\\"chemviewer_unitcell_label_5179472f-834d-4a82-b4ed-a34ce7a0aa90\\\"><input class=\\\"chemviewer_buttons\\\" type=\\\"checkbox\\\" id=\\\"chemviewer_unitcell_5179472f-834d-4a82-b4ed-a34ce7a0aa90\\\" checked> unit cell</label>\\r\\n                <label id=\\\"chemviewer_labels_label_5179472f-834d-4a82-b4ed-a34ce7a0aa90\\\"><input class=\\\"chemviewer_buttons\\\" type=\\\"checkbox\\\" id=\\\"chemviewer_labels_5179472f-834d-4a82-b4ed-a34ce7a0aa90\\\" checked> labels</label>\\r\\n                <button class=\\\"chemviewer_buttons chemviewer_reset\\\" id=\\\"chemviewer_reset_5179472f-834d-4a82-b4ed-a34ce7a0aa90\\\">reset</button>\\r\\n                <button class=\\\"chemviewer_buttons chemviewer_save\\\" id=\\\"chemviewer_save_5179472f-834d-4a82-b4ed-a34ce7a0aa90\\\">save</button>\\r\\n            </div>\\r\\n        </div>\\r\\n        <div id=\\\"chemviewer_container_5179472f-834d-4a82-b4ed-a34ce7a0aa90\\\" class=\\\"chemviewer_container chemviewer_row chemviewer_content\\\">\\r\\n            <div class=\\\"chemviewer_render\\\" id=\\\"chemviewer_5179472f-834d-4a82-b4ed-a34ce7a0aa90\\\"></div>\\r\\n        </div>\\r\\n        <div class=\\\"chemviewer_row chemviewer_footer\\\">\\r\\n            <span></span>\\r\\n        </div>\\r\\n    </div>\\r\\n\\r\\n    \\r\\n    <script>\\r\\n        // setup\\r\\n        function setupChemViewer(options={}) {\\r\\n            // make accessible from the outside\\r\\n            if (!window.hasOwnProperty(\\\"chemviewer_objects\\\")) {\\r\\n                window.chemviewer_objects = {}\\r\\n            }\\r\\n\\r\\n            const chemviewer_id = '5179472f-834d-4a82-b4ed-a34ce7a0aa90';\\r\\n            const chemviewer = new ChemViewer();\\r\\n            chemviewer.create('#chemviewer', chemviewer_id, options);\\r\\n            window.chemviewer_objects[chemviewer_id] = chemviewer;\\r\\n        }\\r\\n\\r\\n        function setupChemViewerAndDraw_WebIO(ChemViewer, jsonString, options={}) {\\r\\n            // make accessible from the outside\\r\\n            if (!window.hasOwnProperty(\\\"chemviewer_objects\\\")) {\\r\\n                window.chemviewer_objects = {}\\r\\n            }\\r\\n\\r\\n            const chemviewer_id = '5179472f-834d-4a82-b4ed-a34ce7a0aa90';\\r\\n            const chemviewer = new ChemViewer();\\r\\n            chemviewer.create('#chemviewer', chemviewer_id, options);\\r\\n            window.chemviewer_objects[chemviewer_id] = chemviewer;\\r\\n\\r\\n            drawJsonString(chemviewer_id, jsonString);\\r\\n        }\\r\\n\\r\\n        function sleep(milliseconds) {\\r\\n            return new Promise(resolve => setTimeout(resolve, milliseconds));\\r\\n        }\\r\\n\\r\\n        // for access from julia\\r\\n\\r\\n        function communicate(args, _webIOScope) {\\r\\n            // WebIO communication\\r\\n            let chemviewer_id = args[0];\\r\\n            let what = args[1];\\r\\n            let val = args[2];\\r\\n\\r\\n            if (what == \\\"drawJsonString\\\") {\\r\\n                drawJsonString(chemviewer_id, val);\\r\\n            } else if (what == \\\"setOptions\\\") {\\r\\n                setOptions(chemviewer_id, val);\\r\\n            } else if (what == \\\"addLabel\\\") {\\r\\n                addLabel(chemviewer_id, val);\\r\\n            } else if (what == \\\"clearLabels\\\") {\\r\\n                clearLabels(chemviewer_id);\\r\\n            } else if (what == \\\"getPngString\\\") {\\r\\n                getPngString(chemviewer_id).then(pngStr => {\\r\\n                    window.chemviewer_objects[\\\"_webIOScope_\\\" + chemviewer_id].setObservableValue(\\\"from_js\\\",\\r\\n                        [\\r\\n                            chemviewer_id,\\r\\n                            \\\"returnPngString\\\",\\r\\n                            {\\\"val\\\": pngStr, \\\"jobID\\\": val[\\\"jobID\\\"]}\\r\\n                        ]\\r\\n                    );\\r\\n                });\\r\\n            } else if (what == \\\"getPngStringLabels\\\") {\\r\\n                getPngStringLabels(chemviewer_id).then(pngStr => {\\r\\n                    window.chemviewer_objects[\\\"_webIOScope_\\\" + chemviewer_id].setObservableValue(\\\"from_js\\\",\\r\\n                        [\\r\\n                            chemviewer_id,\\r\\n                            \\\"returnPngStringLabels\\\",\\r\\n                            {\\\"val\\\": pngStr, \\\"jobID\\\": val[\\\"jobID\\\"]}\\r\\n                        ]\\r\\n                    );\\r\\n                });\\r\\n            }\\r\\n        }\\r\\n\\r\\n        async function drawJsonString(id, jsonString) {\\r\\n            for (let i=0;i<50;i++) {\\r\\n                if (!window.chemviewer_objects.hasOwnProperty(id)) {\\r\\n                    await sleep(100);\\r\\n                } else {\\r\\n                    break;\\r\\n                }\\r\\n            }\\r\\n            window.chemviewer_objects[id].clear();\\r\\n            window.chemviewer_objects[id].draw(JSON.parse(jsonString));\\r\\n        }\\r\\n\\r\\n        async function setOptions(id, dict) {\\r\\n            for (let i=0;i<50;i++) {\\r\\n                if (!window.chemviewer_objects.hasOwnProperty(id)) {\\r\\n                    await sleep(100);\\r\\n                } else {\\r\\n                    break;\\r\\n                }\\r\\n            }\\r\\n            window.chemviewer_objects[id].setOptions(dict);\\r\\n        }\\r\\n\\r\\n        async function addLabel(id, dict) {\\r\\n            for (let i=0;i<50;i++) {\\r\\n                if (!window.chemviewer_objects.hasOwnProperty(id)) {\\r\\n                    await sleep(100);\\r\\n                } else {\\r\\n                    break;\\r\\n                }\\r\\n            }\\r\\n            window.chemviewer_objects[id].addStandaloneLabel(dict);\\r\\n        }\\r\\n\\r\\n        async function clearLabels(id) {\\r\\n            for (let i=0;i<50;i++) {\\r\\n                if (!window.chemviewer_objects.hasOwnProperty(id)) {\\r\\n                    await sleep(100);\\r\\n                } else {\\r\\n                    break;\\r\\n                }\\r\\n            }\\r\\n            window.chemviewer_objects[id].clearStandaloneLabels();\\r\\n        }\\r\\n\\r\\n        async function getPngString(id) {\\r\\n            for (let i=0;i<50;i++) {\\r\\n                if (!window.chemviewer_objects.hasOwnProperty(id)) {\\r\\n                    await sleep(100);\\r\\n                } else {\\r\\n                    break;\\r\\n                }\\r\\n            }\\r\\n            return window.chemviewer_objects[id].save();\\r\\n        }\\r\\n\\r\\n        async function getPngStringLabels(id) {\\r\\n            for (let i=0;i<50;i++) {\\r\\n                if (!window.chemviewer_objects.hasOwnProperty(id)) {\\r\\n                    await sleep(100);\\r\\n                } else {\\r\\n                    break;\\r\\n                }\\r\\n            }\\r\\n            return window.chemviewer_objects[id].saveLabels();\\r\\n        }\\r\\n\\r\\n    </script>\\r\\n\\r\\n</body>\\r\\n\\r\\n</html>\"), Dict{String, Tuple{Observables.AbstractObservable, Union{Nothing, Bool}}}(\"from_js\" => (Observable{Vector{Any}} with 1 listeners. Value:\n",
       "Any[\"chemviewer_id\", \"what\", Dict{Any, Any}()], nothing), \"from_julia\" => (Observable{Vector{Any}} with 1 listeners. Value:\n",
       "Any[\"chemviewer_id\", \"what\", Dict{Any, Any}()], nothing)), Set{String}(), nothing, Asset[Asset(\"js\", nothing, \"C:\\\\Users\\\\alexa\\\\Dropbox\\\\projects\\\\science\\\\ChemfilesViewer\\\\frontend\\\\build\\\\bundle.js\")], Dict{Any, Any}(\"from_julia\" => Any[JSString(\"(function (args){window.__webIOScope=_webIOScope; return communicate(args)})\")]), WebIO.ConnectionPool(Channel{Any}(32), Set{AbstractConnection}(), Condition(Base.InvasiveLinkedList{Task}(Task (runnable) @0x0000000019872d60, Task (runnable) @0x0000000019872d60), Base.AlwaysLockedST(1))), JSString[JSString(\"function () {\\n    var handler = (    function (val) {\\n        setupChemViewerAndDraw_WebIO(val, \\\"{\\\\\\\"bonds\\\\\\\":[{\\\\\\\"order\\\\\\\":2,\\\\\\\"atoms\\\\\\\":[0,4]},{\\\\\\\"order\\\\\\\":1,\\\\\\\"atoms\\\\\\\":[0,8]},{\\\\\\\"order\\\\\\\":2,\\\\\\\"atoms\\\\\\\":[1,5]},{\\\\\\\"order\\\\\\\":1,\\\\\\\"atoms\\\\\\\":[1,9]},{\\\\\\\"order\\\\\\\":2,\\\\\\\"atoms\\\\\\\":[2,6]},{\\\\\\\"order\\\\\\\":1,\\\\\\\"atoms\\\\\\\":[2,10]},{\\\\\\\"order\\\\\\\":2,\\\\\\\"atoms\\\\\\\":[3,7]},{\\\\\\\"order\\\\\\\":1,\\\\\\\"atoms\\\\\\\":[3,11]},{\\\\\\\"order\\\\\\\":1,\\\\\\\"atoms\\\\\\\":[4,14]},{\\\\\\\"order\\\\\\\":1,\\\\\\\"atoms\\\\\\\":[4,16]},{\\\\\\\"order\\\\\\\":1,\\\\\\\"atoms\\\\\\\":[5,12]},{\\\\\\\"order\\\\\\\":1,\\\\\\\"atoms\\\\\\\":[5,17]},{\\\\\\\"order\\\\\\\":1,\\\\\\\"atoms\\\\\\\":[6,13]},{\\\\\\\"order\\\\\\\":1,\\\\\\\"atoms\\\\\\\":[6,18]},{\\\\\\\"order\\\\\\\":1,\\\\\\\"atoms\\\\\\\":[7,15]},{\\\\\\\"order\\\\\\\":1,\\\\\\\"atoms\\\\\\\":[7,19]},{\\\\\\\"order\\\\\\\":2,\\\\\\\"atoms\\\\\\\":[8,13]},{\\\\\\\"order\\\\\\\":1,\\\\\\\"atoms\\\\\\\":[8,20]},{\\\\\\\"order\\\\\\\":2,\\\\\\\"atoms\\\\\\\":[9,14]},{\\\\\\\"order\\\\\\\":1,\\\\\\\"atoms\\\\\\\":[9,21]},{\\\\\\\"order\\\\\\\":2,\\\\\\\"atoms\\\\\\\":[10,15]},{\\\\\\\"order\\\\\\\":1,\\\\\\\"atoms\\\\\\\":[10,22]},{\\\\\\\"order\\\\\\\":2,\\\\\\\"atoms\\\\\\\":[11,12]},{\\\\\\\"order\\\\\\\":1,\\\\\\\"atoms\\\\\\\":[11,23]},{\\\\\\\"order\\\\\\\":1,\\\\\\\"atoms\\\\\\\":[12,24]},{\\\\\\\"order\\\\\\\":1,\\\\\\\"atoms\\\\\\\":[13,25]},{\\\\\\\"order\\\\\\\":1,\\\\\\\"atoms\\\\\\\":[14,26]},{\\\\\\\"order\\\\\\\":1,\\\\\\\"atoms\\\\\\\":[15,27]},{\\\\\\\"order\\\\\\\":2,\\\\\\\"atoms\\\\\\\":[16,20]},{\\\\\\\"order\\\\\\\":1,\\\\\\\"atoms\\\\\\\":[16,28]},{\\\\\\\"order\\\\\\\":2,\\\\\\\"atoms\\\\\\\":[17,21]},{\\\\\\\"order\\\\\\\":1,\\\\\\\"atoms\\\\\\\":[17,29]},{\\\\\\\"order\\\\\\\":2,\\\\\\\"atoms\\\\\\\":[18,22]},{\\\\\\\"order\\\\\\\":1,\\\\\\\"atoms\\\\\\\":[18,30]},{\\\\\\\"order\\\\\\\":2,\\\\\\\"atoms\\\\\\\":[19,23]},{\\\\\\\"order\\\\\\\":1,\\\\\\\"atoms\\\\\\\":[19,31]},{\\\\\\\"order\\\\\\\":1,\\\\\\\"atoms\\\\\\\":[20,32]},{\\\\\\\"order\\\\\\\":1,\\\\\\\"atoms\\\\\\\":[21,33]},{\\\\\\\"order\\\\\\\":1,\\\\\\\"atoms\\\\\\\":[22,34]},{\\\\\\\"order\\\\\\\":1,\\\\\\\"atoms\\\\\\\":[23,35]}],\\\\\\\"labels\\\\\\\":[],\\\\\\\"atoms\\\\\\\":[{\\\\\\\"element\\\\\\\":\\\\\\\"N\\\\\\\",\\\\\\\"location\\\\\\\":[0.3782,-1.9569999999999999,0.0017000000000000001]},{\\\\\\\"element\\\\\\\":\\\\\\\"N\\\\\\\",\\\\\\\"location\\\\\\\":[-1.9570999999999998,-0.3782,0.0007]},{\\\\\\\"element\\\\\\\":\\\\\\\"N\\\\\\\",\\\\\\\"location\\\\\\\":[1.9570999999999998,0.3783,0.0]},{\\\\\\\"element\\\\\\\":\\\\\\\"N\\\\\\\",\\\\\\\"location\\\\\\\":[-0.3782,1.9569999999999999,-0.0014]},{\\\\\\\"element\\\\\\\":\\\\\\\"C\\\\\\\",\\\\\\\"location\\\\\\\":[-0.4931,-2.9223999999999997,0.0002]},{\\\\\\\"element\\\\\\\":\\\\\\\"C\\\\\\\",\\\\\\\"location\\\\\\\":[-2.9223,0.4931,0.0003]},{\\\\\\\"element\\\\\\\":\\\\\\\"C\\\\\\\",\\\\\\\"location\\\\\\\":[2.9223999999999997,-0.493,0.0009]},{\\\\\\\"element\\\\\\\":\\\\\\\"C\\\\\\\",\\\\\\\"location\\\\\\\":[0.4931,2.9223,-0.001]},{\\\\\\\"element\\\\\\\":\\\\\\\"C\\\\\\\",\\\\\\\"location\\\\\\\":[1.6075,-2.5725999999999996,0.0002]},{\\\\\\\"element\\\\\\\":\\\\\\\"C\\\\\\\",\\\\\\\"location\\\\\\\":[-2.5725,-1.6075,0.0007]},{\\\\\\\"element\\\\\\\":\\\\\\\"C\\\\\\\",\\\\\\\"location\\\\\\\":[2.5725999999999996,1.6075,0.0001]},{\\\\\\\"element\\\\\\\":\\\\\\\"C\\\\\\\",\\\\\\\"location\\\\\\\":[-1.6076,2.5725999999999996,-0.0008]},{\\\\\\\"element\\\\\\\":\\\\\\\"C\\\\\\\",\\\\\\\"location\\\\\\\":[-2.804,1.9691999999999998,-0.0001]},{\\\\\\\"element\\\\\\\":\\\\\\\"C\\\\\\\",\\\\\\\"location\\\\\\\":[2.8039,-1.9691999999999998,0.0003]},{\\\\\\\"element\\\\\\\":\\\\\\\"C\\\\\\\",\\\\\\\"location\\\\\\\":[-1.9692999999999998,-2.8039,0.0004]},{\\\\\\\"element\\\\\\\":\\\\\\\"C\\\\\\\",\\\\\\\"location\\\\\\\":[1.9691999999999998,2.8039,-0.0005]},{\\\\\\\"element\\\\\\\":\\\\\\\"C\\\\\\\",\\\\\\\"location\\\\\\\":[0.0844,-4.2734000000000005,-0.0023]},{\\\\\\\"element\\\\\\\":\\\\\\\"C\\\\\\\",\\\\\\\"location\\\\\\\":[-4.273300000000001,-0.0843,0.0005]},{\\\\\\\"element\\\\\\\":\\\\\\\"C\\\\\\\",\\\\\\\"location\\\\\\\":[4.2734000000000005,0.0844,0.0012000000000000001]},{\\\\\\\"element\\\\\\\":\\\\\\\"C\\\\\\\",\\\\\\\"location\\\\\\\":[-0.0844,4.273200000000001,-0.0003]},{\\\\\\\"element\\\\\\\":\\\\\\\"C\\\\\\\",\\\\\\\"location\\\\\\\":[1.3904,-3.9983,-0.0022]},{\\\\\\\"element\\\\\\\":\\\\\\\"C\\\\\\\",\\\\\\\"location\\\\\\\":[-3.9981999999999998,-1.3903,0.0007]},{\\\\\\\"element\\\\\\\":\\\\\\\"C\\\\\\\",\\\\\\\"location\\\\\\\":[3.9981999999999998,1.3903,0.0007]},{\\\\\\\"element\\\\\\\":\\\\\\\"C\\\\\\\",\\\\\\\"location\\\\\\\":[-1.3904,3.9981999999999998,-0.0001]},{\\\\\\\"element\\\\\\\":\\\\\\\"H\\\\\\\",\\\\\\\"location\\\\\\\":[-3.7221,2.5488,0.0007]},{\\\\\\\"element\\\\\\\":\\\\\\\"H\\\\\\\",\\\\\\\"location\\\\\\\":[3.722,-2.5487,-0.0012000000000000001]},{\\\\\\\"element\\\\\\\":\\\\\\\"H\\\\\\\",\\\\\\\"location\\\\\\\":[-2.5489,-3.7221,0.0002]},{\\\\\\\"element\\\\\\\":\\\\\\\"H\\\\\\\",\\\\\\\"location\\\\\\\":[2.5488,3.7221,-0.0005]},{\\\\\\\"element\\\\\\\":\\\\\\\"H\\\\\\\",\\\\\\\"location\\\\\\\":[-0.4202,-5.2214,-0.0039]},{\\\\\\\"element\\\\\\\":\\\\\\\"H\\\\\\\",\\\\\\\"location\\\\\\\":[-5.2213,0.42030000000000006,0.0005]},{\\\\\\\"element\\\\\\\":\\\\\\\"H\\\\\\\",\\\\\\\"location\\\\\\\":[5.2214,-0.4202,0.0017000000000000001]},{\\\\\\\"element\\\\\\\":\\\\\\\"H\\\\\\\",\\\\\\\"location\\\\\\\":[0.4202,5.2213,0.0003]},{\\\\\\\"element\\\\\\\":\\\\\\\"H\\\\\\\",\\\\\\\"location\\\\\\\":[2.1793,-4.7349,-0.0038]},{\\\\\\\"element\\\\\\\":\\\\\\\"H\\\\\\\",\\\\\\\"location\\\\\\\":[-4.7349,-2.1793,0.0009]},{\\\\\\\"element\\\\\\\":\\\\\\\"H\\\\\\\",\\\\\\\"location\\\\\\\":[4.7349,2.1792,0.0007]},{\\\\\\\"element\\\\\\\":\\\\\\\"H\\\\\\\",\\\\\\\"location\\\\\\\":[-2.1793,4.7348,0.0005]}],\\\\\\\"unitcell\\\\\\\":[]}\\\", {\\\"renderHeight\\\":640,\\\"renderWidth\\\":640})\\n        window.chemviewer_objects[\\\"_webIOScope_\\\" + \\\"5179472f-834d-4a82-b4ed-a34ce7a0aa90\\\"] = _webIOScope;\\n    }\\n);\\n    (WebIO.importBlock({\\\"data\\\":[{\\\"name\\\":null,\\\"type\\\":\\\"js\\\",\\\"url\\\":\\\"/assetserver/3964b1a04157daf627fe65eefa5c4e30cf1bc2f6-bundle.js\\\"}],\\\"type\\\":\\\"async_block\\\"})).then((imports) => handler.apply(this, imports));\\n}\\n\")])"
      ]
     },
     "execution_count": 234,
     "metadata": {
      "application/vnd.webio.node+json": {
       "kernelId": "83792f0c-bfc5-4a14-aa0b-4f17b1ce8906"
      }
     },
     "output_type": "execute_result"
    }
   ],
   "source": [
    "trajectory = Trajectory(\"mol.sdf\")\n",
    "mol = read(trajectory)\n",
    "\n",
    "# render molecule\n",
    "render_molecule(mol, options=Dict(\"renderWidth\" => 640, \"renderHeight\" => 640))"
   ]
  },
  {
   "cell_type": "code",
   "execution_count": 235,
   "id": "644cbe0d",
   "metadata": {},
   "outputs": [],
   "source": [
    "sleep(1)\n",
    "save_image(\"test_1.png\")"
   ]
  },
  {
   "cell_type": "code",
   "execution_count": 236,
   "id": "b919636d",
   "metadata": {},
   "outputs": [],
   "source": [
    "# render another molecule in the same window\n",
    "render_molecule!(mol, options=Dict(\"cameraType\"=>\"orthographic\"))"
   ]
  },
  {
   "cell_type": "code",
   "execution_count": 237,
   "id": "5e0d3584",
   "metadata": {},
   "outputs": [],
   "source": [
    "sleep(1)\n",
    "save_image(\"test_2.png\")"
   ]
  },
  {
   "cell_type": "code",
   "execution_count": 238,
   "id": "e8f5d880",
   "metadata": {},
   "outputs": [],
   "source": [
    "# save reference to last used output\n",
    "viewer_id = get_current_chemviewer_id()\n",
    "\n",
    "# change properties\n",
    "d = generate_dict_molecule(mol)\n",
    "d[\"atoms\"][1][\"color\"] = \"#f00000\"\n",
    "d[\"atoms\"][1][\"label\"] = \"Important atom\"\n",
    "d[\"atoms\"][1][\"radius\"] = 1.0\n",
    "render_dict_molecule(d, chemviewer_id=viewer_id)"
   ]
  },
  {
   "cell_type": "code",
   "execution_count": 239,
   "id": "186bb4b5",
   "metadata": {},
   "outputs": [],
   "source": [
    "sleep(1)\n",
    "save_image(\"test_3.png\")"
   ]
  },
  {
   "cell_type": "code",
   "execution_count": 240,
   "id": "c9f0dfc8",
   "metadata": {},
   "outputs": [],
   "source": [
    "# add labels\n",
    "d[\"labels\"] = [\n",
    "    Dict(\n",
    "        \"label\" => \"porphyrin\",\n",
    "        \"location\" => [0,0,2],\n",
    "        \"color\" => \"#600000\"\n",
    "    ),\n",
    "    Dict(\n",
    "        \"label\" => \"pyrrole\",\n",
    "        \"location\" => [-0.6, 3.2, 0],\n",
    "        \"style\" => \"font-size:80%;opacity:0.5;\"\n",
    "    )\n",
    "]\n",
    "render_dict_molecule!(d, options=Dict(\"showLabels\" => true))"
   ]
  },
  {
   "cell_type": "code",
   "execution_count": 242,
   "id": "f56c02fc",
   "metadata": {},
   "outputs": [],
   "source": [
    "sleep(1)\n",
    "save_image(\"test_4.png\")\n",
    "save_image_labels(\"test_4_labels.png\")"
   ]
  },
  {
   "cell_type": "code",
   "execution_count": 243,
   "id": "b2e538e0",
   "metadata": {},
   "outputs": [],
   "source": [
    "save_overlay(\"test_4_both.png\", \"test_4.png\", \"test_4_labels.png\")"
   ]
  },
  {
   "cell_type": "code",
   "execution_count": 244,
   "id": "8c2b9f55",
   "metadata": {},
   "outputs": [],
   "source": [
    "# change view\n",
    "set_camera_position!(\"x\", \"-\")\n",
    "set_options!(Dict(\"drawingType\" => \"wireframe\"))"
   ]
  },
  {
   "cell_type": "code",
   "execution_count": 245,
   "id": "d1c7dde0",
   "metadata": {},
   "outputs": [],
   "source": [
    "sleep(1)\n",
    "save_image(\"test_5.png\")"
   ]
  },
  {
   "cell_type": "code",
   "execution_count": 246,
   "id": "5b3a36c2",
   "metadata": {},
   "outputs": [],
   "source": [
    "set_camera_position!(\"c\", \"+\")\n",
    "set_options!(Dict(\"drawingType\" => \"ball and stick\"))"
   ]
  },
  {
   "cell_type": "code",
   "execution_count": 247,
   "id": "d27b8e6f",
   "metadata": {},
   "outputs": [],
   "source": [
    "sleep(1)\n",
    "save_image(\"test_6.png\")"
   ]
  },
  {
   "cell_type": "code",
   "execution_count": 248,
   "id": "4d40eeb4",
   "metadata": {},
   "outputs": [],
   "source": [
    "# change style\n",
    "set_options!(Dict(\"styles\" => Dict(\n",
    "    \"H\" => Dict(\"color\" => \"#c0c0c0\", \"radius\" => 0.4),\n",
    "    \"N\" => Dict(\"color\" => \"#241571\"),\n",
    "    \"bond\" => Dict(\"color\" => \"#ffffff\", \"radius\" => 0.3)\n",
    ")))"
   ]
  },
  {
   "cell_type": "code",
   "execution_count": 249,
   "id": "5601109d",
   "metadata": {},
   "outputs": [],
   "source": [
    "sleep(1)\n",
    "save_image(\"test_7.png\")\n",
    "save_image_labels(\"test_7_labels.png\")"
   ]
  },
  {
   "cell_type": "code",
   "execution_count": 250,
   "id": "890554a4",
   "metadata": {},
   "outputs": [],
   "source": [
    "save_overlay(\"test_7_both.png\", \"test_7.png\", \"test_7_labels.png\")"
   ]
  },
  {
   "cell_type": "code",
   "execution_count": 251,
   "id": "467ff508",
   "metadata": {},
   "outputs": [],
   "source": [
    "# add label\n",
    "add_label!(Dict(\n",
    "    \"label\" => \"some other text\",\n",
    "    \"location\" => [2,5,5],\n",
    "    \"style\" => \"font-weight:bold;color:blue;font-size:3em;\"\n",
    "))\n",
    "save_image_labels(\"test_8_labels.png\")"
   ]
  },
  {
   "cell_type": "code",
   "execution_count": 252,
   "id": "2fac3c9f",
   "metadata": {},
   "outputs": [],
   "source": [
    "# clear labels\n",
    "clear_labels!()\n",
    "save_image_labels(\"test_9_labels.png\")"
   ]
  },
  {
   "cell_type": "code",
   "execution_count": 253,
   "id": "1cde850c",
   "metadata": {},
   "outputs": [],
   "source": [
    "# save image\n",
    "if isfile(\"test.png\")\n",
    "    rm(\"test.png\")\n",
    "end\n",
    "sleep(1)\n",
    "save_image(\"test.png\")"
   ]
  },
  {
   "cell_type": "code",
   "execution_count": 281,
   "id": "4acbedf1",
   "metadata": {},
   "outputs": [
    {
     "data": {
      "text/plain": [
       "3436.592156862745"
      ]
     },
     "execution_count": 281,
     "metadata": {},
     "output_type": "execute_result"
    }
   ],
   "source": [
    "image_diff(\"test_2.png\", \"test_5.png\")"
   ]
  }
 ],
 "metadata": {
  "@webio": {
   "lastCommId": "98b55ea440664d4496fe99a4386364db",
   "lastKernelId": "83792f0c-bfc5-4a14-aa0b-4f17b1ce8906"
  },
  "kernelspec": {
   "display_name": "Julia 1.6.1",
   "language": "julia",
   "name": "julia-1.6"
  },
  "language_info": {
   "file_extension": ".jl",
   "mimetype": "application/julia",
   "name": "julia",
   "version": "1.6.1"
  }
 },
 "nbformat": 4,
 "nbformat_minor": 5
}
